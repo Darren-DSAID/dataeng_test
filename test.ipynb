{
 "cells": [
  {
   "cell_type": "code",
   "execution_count": 19,
   "metadata": {},
   "outputs": [],
   "source": [
    "import csv\n",
    "import re"
   ]
  },
  {
   "cell_type": "code",
   "execution_count": 1,
   "metadata": {},
   "outputs": [
    {
     "name": "stdout",
     "output_type": "stream",
     "text": [
      "airflow  dataProcessScript  dataset.csv  README.md  Untitled.ipynb\r\n"
     ]
    }
   ],
   "source": [
    "!dir"
   ]
  },
  {
   "cell_type": "code",
   "execution_count": 57,
   "metadata": {},
   "outputs": [],
   "source": [
    "prefix_tobe_removed = '(^[A-Z][a-z]{1,3}\\. )|(Miss) ' #to replace salutation like Mr. Dr. ... and Miss\n",
    "\n",
    "with open('dataset.csv', newline='') as origFile, open('result.csv','w+') as resultFile, open('error.csv','w+') as errorFile :\n",
    "\n",
    "    resultReader = csv.reader(origFile, delimiter=',')\n",
    "    resultWriter = csv.writer(resultFile, delimiter=',')\n",
    "    errorWriter = csv.writer(errorFile, delimiter=',')\n",
    "    #write data header to file\n",
    "    resultWriter.writerow(['first_name','last_name','price','above_100'])\n",
    "    errorWriter.writerow(['name','price','error'])\n",
    "    for i,row in enumerate(resultReader):\n",
    "        try:\n",
    "            if(i==0):\n",
    "                continue\n",
    "            name = row[0]\n",
    "            price = float(row[1])\n",
    "            above_100 = True if price>100 else False\n",
    "            name=re.sub(prefix_tobe_removed,\"\",name).strip()\n",
    "            if not name:\n",
    "                #do nothing\n",
    "                print(name)\n",
    "            first_name,last_name=name.split(\" \")[0],name.split(\" \")[1] # after substitute the salutation, checked all names' len are either 2 or 3. Take the first two is ok\n",
    "            # write data to file\n",
    "            resultWriter.writerow([first_name,last_name,price,above_100])\n",
    "        except Exception as e:\n",
    "            row.append(e)\n",
    "            errorWriter.writerow(e)\n",
    "    #move original file to processed directory\n",
    "            \n",
    "        \n",
    "\n"
   ]
  },
  {
   "cell_type": "code",
   "execution_count": 49,
   "metadata": {},
   "outputs": [],
   "source": [
    "pattern = '(^[A-Z][a-z]{1,3}\\. )|(Miss) '"
   ]
  },
  {
   "cell_type": "code",
   "execution_count": 50,
   "metadata": {},
   "outputs": [
    {
     "data": {
      "text/plain": [
       "'Gao Peng'"
      ]
     },
     "execution_count": 50,
     "metadata": {},
     "output_type": "execute_result"
    }
   ],
   "source": [
    "search_text = \"Miss Gao Peng\"\n",
    "stext=re.sub(pattern,\"\",search_text)\n",
    "# stext.split(\" \")\n",
    "stext\n"
   ]
  }
 ],
 "metadata": {
  "kernelspec": {
   "display_name": "govdata",
   "language": "python",
   "name": "govdata"
  },
  "language_info": {
   "codemirror_mode": {
    "name": "ipython",
    "version": 3
   },
   "file_extension": ".py",
   "mimetype": "text/x-python",
   "name": "python",
   "nbconvert_exporter": "python",
   "pygments_lexer": "ipython3",
   "version": "3.6.11"
  }
 },
 "nbformat": 4,
 "nbformat_minor": 2
}
